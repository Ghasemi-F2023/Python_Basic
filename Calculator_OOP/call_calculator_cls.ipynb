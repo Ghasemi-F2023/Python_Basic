{
  "nbformat": 4,
  "nbformat_minor": 0,
  "metadata": {
    "colab": {
      "provenance": []
    },
    "kernelspec": {
      "name": "python3",
      "display_name": "Python 3"
    },
    "language_info": {
      "name": "python"
    }
  },
  "cells": [
    {
      "cell_type": "code",
      "execution_count": null,
      "metadata": {
        "id": "4hoRVkWldSCs"
      },
      "outputs": [],
      "source": [
        "from BasicCalculator import BasicCalculator\n",
        "from ScientificCalculator import ScientificCalculator\n",
        "\n",
        "bsc_calculator = BasicCalculator(8, 9)\n",
        "sci_calculator = ScientificCalculator(10, 5)\n",
        "\n",
        "print('Addition: ', bsc_calculator.add() )\n",
        "print('Subtraction: ', bsc_calculator.subtract() )\n",
        "\n",
        "print('Power: ', sci_calculator.power())\n",
        "print('Squar_root: ', sci_calculator.square_root())\n"
      ]
    }
  ]
}
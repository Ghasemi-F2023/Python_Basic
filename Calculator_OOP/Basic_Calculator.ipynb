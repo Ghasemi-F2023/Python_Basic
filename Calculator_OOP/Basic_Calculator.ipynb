{
  "nbformat": 4,
  "nbformat_minor": 0,
  "metadata": {
    "colab": {
      "provenance": []
    },
    "kernelspec": {
      "name": "python3",
      "display_name": "Python 3"
    },
    "language_info": {
      "name": "python"
    }
  },
  "cells": [
    {
      "cell_type": "code",
      "execution_count": null,
      "metadata": {
        "id": "rH-qOY31MEkf"
      },
      "outputs": [],
      "source": [
        "class BasicCalculator:\n",
        "    def __init__(self, num1, num2):\n",
        "        self.num1 = num1\n",
        "        self.num2 = num2\n",
        "\n",
        "    \n",
        "    def add(self):\n",
        "        return self.num1 + self.num2\n",
        "\n",
        "\n",
        "    def subtract(self):\n",
        "        return self.num1 - self.num2\n",
        "\n",
        "    def multiply(self):\n",
        "        return self.num1 * self.num2\n",
        "\n",
        "    def divide(self):\n",
        "        if self.num2 == 0:\n",
        "            raise ValueError('Cannot divide by zero!')\n",
        "        return self.num1 / self.num2"
      ]
    }
  ]
}
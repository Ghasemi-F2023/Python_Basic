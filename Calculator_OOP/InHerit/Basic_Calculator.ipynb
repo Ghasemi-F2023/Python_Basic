{
  "nbformat": 4,
  "nbformat_minor": 0,
  "metadata": {
    "colab": {
      "provenance": []
    },
    "kernelspec": {
      "name": "python3",
      "display_name": "Python 3"
    },
    "language_info": {
      "name": "python"
    }
  },
  "cells": [
    {
      "cell_type": "code",
      "execution_count": 1,
      "metadata": {
        "id": "rH-qOY31MEkf"
      },
      "outputs": [],
      "source": [
        "#Define a class for Basic calculator\n",
        "class BasicCalculator:\n",
        "    def __init__(self, num1, num2):\n",
        "        self.num1 = num1\n",
        "        self.num2 = num2\n",
        "\n",
        "    #Definition of sum function\n",
        "    def add(self):\n",
        "        return self.num1 + self.num2\n",
        "\n",
        "    #ِDefinition of sutract function\n",
        "    def subtract(self):\n",
        "        return self.num1 - self.num2\n",
        "\n",
        "    #Definition of multiply function\n",
        "    def multiply(self):\n",
        "        return self.num1 * self.num2\n",
        "        \n",
        "    #Definition of division function\n",
        "    def divide(self):\n",
        "        if self.num2 == 0:\n",
        "            raise ValueError('Cannot divide by zero!')\n",
        "        return self.num1 / self.num2"
      ]
    }
  ]
}
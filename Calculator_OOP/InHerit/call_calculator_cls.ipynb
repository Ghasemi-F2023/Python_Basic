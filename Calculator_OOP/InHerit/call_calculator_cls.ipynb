{
  "nbformat": 4,
  "nbformat_minor": 0,
  "metadata": {
    "colab": {
      "provenance": []
    },
    "kernelspec": {
      "name": "python3",
      "display_name": "Python 3"
    },
    "language_info": {
      "name": "python"
    }
  },
  "cells": [
    {
      "cell_type": "code",
      "execution_count": null,
      "metadata": {
        "id": "4hoRVkWldSCs"
      },
      "outputs": [],
      "source": [
        "#import file ScientificCalculator Using the functions \n",
        "from ScientificCalculator import ScientificCalculator\n",
        "\n",
        "#Create an object of that class\n",
        "sci_calculator = ScientificCalculator(10, 5)\n",
        "\n",
        "#Perform operations only with Scientific Calculator\n",
        "print('addition_sci',sci_calculator.add())\n",
        "print('power:',sci_calculator.power())"
      ]
    }
  ]
}
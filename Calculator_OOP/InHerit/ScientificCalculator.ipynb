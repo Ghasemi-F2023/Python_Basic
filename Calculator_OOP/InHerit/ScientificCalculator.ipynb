{
  "nbformat": 4,
  "nbformat_minor": 0,
  "metadata": {
    "colab": {
      "provenance": []
    },
    "kernelspec": {
      "name": "python3",
      "display_name": "Python 3"
    },
    "language_info": {
      "name": "python"
    }
  },
  "cells": [
    {
      "cell_type": "code",
      "execution_count": 1,
      "metadata": {
        "id": "dnrOZxZrcR0N"
      },
      "outputs": [],
      "source": [
        "#import library math for Calculations\n",
        "import math\n",
        "\n",
        "#import file Basic_calculator to inherit Use functions\n",
        "from Basic_Calculator import BasicCalculator\n",
        "\n",
        "#Define a class for advanced calculator and BasicCalculator parant\n",
        "class ScientificCalculator(BasicCalculator):\n",
        "    def __init__( self, num1, num2):\n",
        "        self.num1 = num1\n",
        "        self.num2 = num2\n",
        "        \n",
        "    \n",
        "    #power operation\n",
        "    def power(self):\n",
        "        return self.num1**self.num2\n",
        "    #root operation\n",
        "    def square_root(self):\n",
        "        if self.num1 < 0:\n",
        "            raise ValueError('Cannot take square root of negative number!')\n",
        "        return self.num1 ** 0.5\n",
        "    #Logarithmic operations\n",
        "    def logarithm(self):\n",
        "        if self.num1 <= 0 or self.num2 <= 0:\n",
        "            raise ValueError('Cannot take alghorithm of non positive numbers')\n",
        "            \n",
        "        return math.log(self.num1, self.num2)\n"
      ]
    }
  ]
}
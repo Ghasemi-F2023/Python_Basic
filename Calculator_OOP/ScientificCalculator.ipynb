{
  "nbformat": 4,
  "nbformat_minor": 0,
  "metadata": {
    "colab": {
      "provenance": []
    },
    "kernelspec": {
      "name": "python3",
      "display_name": "Python 3"
    },
    "language_info": {
      "name": "python"
    }
  },
  "cells": [
    {
      "cell_type": "code",
      "execution_count": null,
      "metadata": {
        "id": "dnrOZxZrcR0N"
      },
      "outputs": [],
      "source": [
        "import math\n",
        "\n",
        "class ScientificCalculator:\n",
        "    def __init__( self, num1, num2):\n",
        "        self.num1 = num1\n",
        "        self.num2 = num2\n",
        "        \n",
        "    \n",
        "    \n",
        "    def power(self):\n",
        "        return self.num1**self.num2\n",
        "\n",
        "    def square_root(self):\n",
        "        if self.num1 < 0:\n",
        "            raise ValueError('Cannot take square root of negative number!')\n",
        "        return self.num1 ** 0.5\n",
        "\n",
        "    def logarithm(self):\n",
        "        if self.num1 <= 0 or self.num2 <= 0:\n",
        "            raise ValueError('Cannot take alghorithm of non positive numbers')\n",
        "        return math.log(self.num1, self.num2)\n"
      ]
    }
  ]
}
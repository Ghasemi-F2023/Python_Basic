{
 "cells": [
  {
   "cell_type": "markdown",
   "id": "80899223",
   "metadata": {},
   "source": [
    "# <p style=\"background:blue ;color:white;font-family:newtimeroman;font-size:150%;text-align:center;border-radius:5px 5px;\"> Final Project: Topic 3 (Sudoku) </p>"
   ]
  },
  {
   "cell_type": "markdown",
   "id": "85e5b13d",
   "metadata": {},
   "source": [
    "# <p style=\"background:lightblue ;color:black;font-family:newtimeroman;font-size:150%;text-align:center;border-radius:5px 5px;\"> Mehdi Khalaj </p>"
   ]
  },
  {
   "cell_type": "markdown",
   "id": "171324b5",
   "metadata": {},
   "source": [
    "# <p style=\"background:orange ;color:black;font-family:newtimeroman;font-size:100%;text-align:center;border-radius:5px 5px;\"> Instruction to Play the Game </p>"
   ]
  },
  {
   "cell_type": "markdown",
   "id": "dbbf6d84",
   "metadata": {},
   "source": [
    "### Steps to Enter the initial Board:\n",
    "\n",
    "    1- pass 9 integer number as first row. use 'empty' instead of empty cells.\n",
    "    2- pass 9 integer number as second row. use 'empty' instead of empty cells.\n",
    "    3- pass 9 integer number as third row. use 'empty' instead of empty cells.\n",
    "    4- pass 9 integer number as fourth row. use 'empty' instead of empty cells.\n",
    "    5- pass 9 integer number as fifth row. use 'empty' instead of empty cells.\n",
    "    6- pass 9 integer number as sixth row. use 'empty' instead of empty cells.\n",
    "    7- pass 9 integer number as seventh row. use 'empty' instead of empty cells.\n",
    "    8- pass 9 integer number as eighth row. use 'empty' instead of empty cells.\n",
    "    9- pass 9 integer number as ninth row. use 'empty' instead of empty cells.\n",
    "\n",
    "    Example: 'empty' 'empty' 'empty' 2 6 'empty' 7 'empty' 1\n",
    "\n",
    "\n",
    "### Then the solved sudoku board is printed."
   ]
  },
  {
   "cell_type": "code",
   "execution_count": 1,
   "id": "4aaed3c1",
   "metadata": {},
   "outputs": [],
   "source": [
    "import numpy as np"
   ]
  },
  {
   "cell_type": "markdown",
   "id": "6d95ad9a",
   "metadata": {},
   "source": [
    "# 1. Print The Board"
   ]
  },
  {
   "cell_type": "code",
   "execution_count": 2,
   "id": "2d2f3e10",
   "metadata": {},
   "outputs": [],
   "source": [
    "def print_board(board):\n",
    "    '''\n",
    "    Takes the sudoku board and print it.\n",
    "    board: A 9x9 numpy array as the sudoku board\n",
    "    '''\n",
    "    for i in range(len(board)):\n",
    "        if i % 3 == 0 and i != 0:\n",
    "            print(\"- - - - - - - - - - - - \")\n",
    "\n",
    "        for j in range(len(board[0])):\n",
    "            if j % 3 == 0 and j != 0:\n",
    "                print(\" | \", end=\"\")\n",
    "\n",
    "            if j == 8:\n",
    "                print(board[i,j])\n",
    "            else:\n",
    "                print(str(board[i,j]) + \" \", end=\"\")\n"
   ]
  },
  {
   "cell_type": "markdown",
   "id": "577d6a30",
   "metadata": {},
   "source": [
    "# 2. Find the first available empty cell "
   ]
  },
  {
   "cell_type": "code",
   "execution_count": 3,
   "id": "cca66316",
   "metadata": {},
   "outputs": [],
   "source": [
    "def find_first_empty_cell(board):\n",
    "    \"\"\"Find an empty cell in the board.\"\"\"\n",
    "    for row in range(9):\n",
    "        for col in range(9):\n",
    "            if board[row][col] == 0:\n",
    "                return row, col\n",
    "    return None\n"
   ]
  },
  {
   "cell_type": "markdown",
   "id": "87c688a8",
   "metadata": {},
   "source": [
    "# 3. Identify Existing Digits"
   ]
  },
  {
   "cell_type": "code",
   "execution_count": 4,
   "id": "cc836062",
   "metadata": {},
   "outputs": [],
   "source": [
    "def Unique_Existing_digits(board, row, column):\n",
    "    '''\n",
    "    Takes the sudoku board together with the row and column index associated with a cell, \n",
    "    finds all existing digits (1-9) in the same row, same column and the subgrid box associated to the cell\n",
    "    \n",
    "    board: A 9x9 numpy array as the sudoku board.\n",
    "    row: An integer number (0-8) as the row index\n",
    "    column: An integer number (0-8) as the column index\n",
    "    \n",
    "    return: a numpy array contains digits 1-9\n",
    "    '''\n",
    "    # Get unique values from row and column\n",
    "    row_digits = board[row,:]\n",
    "    col_digits = board[:,column]\n",
    "    \n",
    "    # First define the 3x3 box that the cell with coordinate (row, column) falls into\n",
    "    row_end_pos = int(np.ceil((row + 1) / 3) * 3)\n",
    "    col_end_pos = int(np.ceil((column + 1) / 3) * 3)\n",
    "    \n",
    "    # Then get unique values from 3x3 box\n",
    "    row_start_pos = row_end_pos-3\n",
    "    col_start_pos = col_end_pos-3\n",
    "    box_digits = board[row_start_pos:row_end_pos, col_start_pos:col_end_pos].reshape(-1)\n",
    "    \n",
    "    # put all the digits into 1 array\n",
    "    all_digits = np.hstack((row_digits, col_digits, box_digits))\n",
    "    \n",
    "    return all_digits"
   ]
  },
  {
   "cell_type": "markdown",
   "id": "032a8f27",
   "metadata": {},
   "source": [
    "# 4. Solve the Board"
   ]
  },
  {
   "cell_type": "code",
   "execution_count": 5,
   "id": "60e0a382",
   "metadata": {},
   "outputs": [],
   "source": [
    "def solve(board):\n",
    "    '''\n",
    "    Takes an initialized board, then solve the Sudoku puzzle using backtracking\n",
    "    \n",
    "    board: A 9x9 numpy array as the initilized sudoku board.\n",
    "    \n",
    "    return:  True, if the board is solved and False, if puzzle is unsolvable.\n",
    "    ''' \n",
    "    # Find an empty cell\n",
    "    empty_cell = find_first_empty_cell(board)\n",
    "    \n",
    "    # If there are no empty cells, the board is solved\n",
    "    if empty_cell is None:\n",
    "        return True\n",
    "    \n",
    "    row, col = empty_cell\n",
    "    \n",
    "    # place number 1-9, one by one- in the empty cell to reach to the final correct answer\n",
    "    for digit in range(1, 10):\n",
    "        \n",
    "        # if the selected digit is not currently among the existing digits in the same row and the same column and the 3x3 box, then assign it\n",
    "        if digit not in Unique_Existing_digits(board, row, col):\n",
    "            board[row,col] = digit\n",
    "            \n",
    "            # Recursively solve the board\n",
    "            if solve(board):\n",
    "                return True\n",
    "            \n",
    "            # If the recursive call fails, backtrack and try the next number\n",
    "            board[row,col] = 0\n",
    "    \n",
    "    # If none of the digits worked, the puzzle is unsolvable\n",
    "    return False"
   ]
  },
  {
   "cell_type": "markdown",
   "id": "9ed503bb",
   "metadata": {},
   "source": [
    "# 5. Run the Game"
   ]
  },
  {
   "cell_type": "code",
   "execution_count": 6,
   "id": "ae121cf1",
   "metadata": {},
   "outputs": [
    {
     "name": "stdout",
     "output_type": "stream",
     "text": [
      "\n",
      "\n",
      "************************ Enter the Initial Board ************************\n",
      "\n",
      "\n"
     ]
    },
    {
     "name": "stdin",
     "output_type": "stream",
     "text": [
      "input line 1:  'empty' 'empty' 8 'empty' 'empty' 8 'empty' 'empty' 9\n",
      "input line 2:  8 7 'empty' 'empty' 'empty' 1 3 'empty' 'empty'\n",
      "input line 3:  5 'empty' 'empty' 'empty' 'empty' 7 'empty' 'empty' 6\n",
      "input line 4:  'empty' 'empty' 4 5 'empty' 'empty' 9 'empty' 'empty'\n",
      "input line 5:  3 'empty' 'empty' 2 'empty' 'empty' 'empty' 'empty' 4\n",
      "input line 6:  'empty' 9 8 'empty' 'empty' 'empty' 'empty' 'empty' 'empty'\n",
      "input line 7:  4 'empty' 'empty' 'empty' 'empty' 5 'empty' 1 'empty'\n",
      "input line 8:  'empty' 'empty' 'empty' 'empty' 'empty' 'empty' 'empty' 'empty' 'empty'\n",
      "input line 9:  7 'empty' 'empty' 6 'empty' 'empty' 'empty' 'empty' 3\n"
     ]
    },
    {
     "name": "stdout",
     "output_type": "stream",
     "text": [
      "\n",
      "Error: Duplicate numbers in row 1\n",
      "\n",
      "Error: Duplicate numbers in column 3\n",
      "\n",
      "\n",
      "Fix The Errors and Then Try Again!!!\n",
      "\n",
      "\n"
     ]
    },
    {
     "name": "stdin",
     "output_type": "stream",
     "text": [
      "If you want to play again press 1, otherwise press 0:  1\n"
     ]
    },
    {
     "name": "stdout",
     "output_type": "stream",
     "text": [
      "\n",
      "\n",
      "************************ Enter the Initial Board ************************\n",
      "\n",
      "\n"
     ]
    },
    {
     "name": "stdin",
     "output_type": "stream",
     "text": [
      "input line 1:  1\n",
      "input line 2:  2\n",
      "input line 3:  3\n",
      "input line 4:  4\n",
      "input line 5:  5\n",
      "input line 6:  6\n",
      "input line 7:  7\n",
      "input line 8:  8\n",
      "input line 9:  9\n"
     ]
    },
    {
     "name": "stdout",
     "output_type": "stream",
     "text": [
      "\n",
      "Error: Row 1 is Incomplete\n",
      "\n",
      "Error: Row 2 is Incomplete\n",
      "\n",
      "Error: Row 3 is Incomplete\n",
      "\n",
      "Error: Row 4 is Incomplete\n",
      "\n",
      "Error: Row 5 is Incomplete\n",
      "\n",
      "Error: Row 6 is Incomplete\n",
      "\n",
      "Error: Row 7 is Incomplete\n",
      "\n",
      "Error: Row 8 is Incomplete\n",
      "\n",
      "Error: Row 9 is Incomplete\n",
      "\n",
      "Error: Column 2 is Incomplete\n",
      "\n",
      "Error: Column 3 is Incomplete\n",
      "\n",
      "Error: Column 4 is Incomplete\n",
      "\n",
      "Error: Column 5 is Incomplete\n",
      "\n",
      "Error: Column 6 is Incomplete\n",
      "\n",
      "Error: Column 7 is Incomplete\n",
      "\n",
      "Error: Column 8 is Incomplete\n",
      "\n",
      "Error: Column 9 is Incomplete\n",
      "\n",
      "\n",
      "Fix The Errors and Then Try Again!!!\n",
      "\n",
      "\n"
     ]
    },
    {
     "name": "stdin",
     "output_type": "stream",
     "text": [
      "If you want to play again Enter 1, otherwise Enter 0:  1\n"
     ]
    },
    {
     "name": "stdout",
     "output_type": "stream",
     "text": [
      "\n",
      "\n",
      "************************ Enter the Initial Board ************************\n",
      "\n",
      "\n"
     ]
    },
    {
     "name": "stdin",
     "output_type": "stream",
     "text": [
      "input line 1:  'empty' 'empty' 'empty' 'empty' 'empty' 8 'empty' 'empty' 9\n",
      "input line 2:  8 7 'empty' 'empty' 'empty' 1 3 'empty' 'empty'\n",
      "input line 3:  5 'empty' 'empty' 'empty' 'empty' 7 'empty' 'empty' 6\n",
      "input line 4:  'empty' 'empty' 4 5 'empty' 'empty' 9 'empty' 'empty'\n",
      "input line 5:  3 'empty' 'empty' 2 'empty' 'empty' 'empty' 'empty' 4\n",
      "input line 6:  'empty' 9 8 'empty' 'empty' 'empty' 'empty' 'empty' 'empty'\n",
      "input line 7:  4 'empty' 'empty' 'empty' 'empty' 5 'empty' 1 'empty'\n",
      "input line 8:  'empty' 'empty' 'empty' 'empty' 'empty' 'empty' 'empty' 'empty' 'empty'\n",
      "input line 9:  7 'empty' 'empty' 6 'empty' 'empty' 'empty' 'empty' 3\n"
     ]
    },
    {
     "name": "stdout",
     "output_type": "stream",
     "text": [
      "\n",
      "\n",
      "*************** Initial Board **************\n",
      "\n",
      "\n",
      "0 0 0  | 0 0 8  | 0 0 9\n",
      "8 7 0  | 0 0 1  | 3 0 0\n",
      "5 0 0  | 0 0 7  | 0 0 6\n",
      "- - - - - - - - - - - - \n",
      "0 0 4  | 5 0 0  | 9 0 0\n",
      "3 0 0  | 2 0 0  | 0 0 4\n",
      "0 9 8  | 0 0 0  | 0 0 0\n",
      "- - - - - - - - - - - - \n",
      "4 0 0  | 0 0 5  | 0 1 0\n",
      "0 0 0  | 0 0 0  | 0 0 0\n",
      "7 0 0  | 6 0 0  | 0 0 3\n",
      "\n",
      "\n",
      "***************  Solved Board **************\n",
      "\n",
      "\n",
      "1 6 2  | 3 5 8  | 4 7 9\n",
      "8 7 9  | 4 6 1  | 3 2 5\n",
      "5 4 3  | 9 2 7  | 1 8 6\n",
      "- - - - - - - - - - - - \n",
      "2 1 4  | 5 8 6  | 9 3 7\n",
      "3 5 7  | 2 1 9  | 8 6 4\n",
      "6 9 8  | 7 3 4  | 2 5 1\n",
      "- - - - - - - - - - - - \n",
      "4 3 6  | 8 9 5  | 7 1 2\n",
      "9 2 5  | 1 7 3  | 6 4 8\n",
      "7 8 1  | 6 4 2  | 5 9 3\n"
     ]
    },
    {
     "name": "stdin",
     "output_type": "stream",
     "text": [
      "\n",
      "\n",
      "If you want to play again press 1, otherwise press 0:  0\n"
     ]
    },
    {
     "name": "stdout",
     "output_type": "stream",
     "text": [
      "\n",
      "\n",
      "BYE!!!\n"
     ]
    }
   ],
   "source": [
    "def main():\n",
    "    \n",
    "    play = 1\n",
    "    \n",
    "    while play:\n",
    "        stop = 0\n",
    "\n",
    "        board = np.full(shape=(9,9), fill_value=-1, dtype=int).copy()\n",
    "\n",
    "        # convert all 'empty' input into 0 and store all the input digits into an array\n",
    "        print(\"\\n\\n************************ Enter the Initial Board ************************\\n\\n\")\n",
    "        for i in range(9):\n",
    "            row = input(f'input line {i+1}: ').split() \n",
    "\n",
    "            for j, item in enumerate(row):\n",
    "                if item.isdigit():\n",
    "                    board[i,j] = int(item)\n",
    "                elif item == r\"'empty'\":\n",
    "                    board[i,j] = 0\n",
    "\n",
    "\n",
    "        # Check for incomplete row\n",
    "        for r in range(9):\n",
    "            if -1 in board[r,:]:\n",
    "                print(f\"\\nError: Row {r + 1} is Incomplete\")\n",
    "                stop = 1\n",
    "                exit(1)\n",
    "            \n",
    "        # Check for incomplete column\n",
    "        for c in range(9):\n",
    "            if -1 in board[:,c]:\n",
    "                print(f\"\\nError: Column {c + 1} is Incomplete\")\n",
    "                stop = 1\n",
    "                exit(1)\n",
    "            \n",
    "        if not stop:\n",
    "            # Check for duplicate numbers in the row (except zeros)\n",
    "            for r in range(9):\n",
    "                row_digits = [x for x in board[r,:] if x != 0]\n",
    "                if len(row_digits) != len(set(row_digits)):\n",
    "                    print(\"\\nError: Duplicate numbers in row\", r + 1)\n",
    "                    stop = 1\n",
    "                    exit(1)\n",
    "\n",
    "            # Check for duplicate numbers in the columns (except zeros)\n",
    "            for c in range(9):\n",
    "                col_digits = [y for y in board[:,c] if y != 0]\n",
    "                if len(col_digits) != len(set(col_digits)):\n",
    "                    print(\"\\nError: Duplicate numbers in column\", c + 1)\n",
    "                    stop = 1\n",
    "                    exit(1)\n",
    "\n",
    "            if not stop:\n",
    "                # Print initial board\n",
    "                print(\"\\n\\n*************** Initial Board **************\\n\\n\")\n",
    "                print_board(board)\n",
    "\n",
    "                # Print solved board\n",
    "                if solve(board):\n",
    "                    print(\"\\n\\n***************  Solved Board **************\\n\\n\")\n",
    "                    print_board(board)\n",
    "                else:\n",
    "                    print(\"The puzzle is unsolvable\")\n",
    "\n",
    "                play = int(input('\\n\\nIf you want to play again press 1, otherwise press 0: '))\n",
    "\n",
    "            else:\n",
    "                print(\"\\n\\nFix The Errors and Then Try Again!!!\\n\\n\")\n",
    "                play = int(input('If you want to play again Enter 1, otherwise Enter 0: '))\n",
    "        else:\n",
    "                print(\"\\n\\nFix The Errors and Then Try Again!!!\\n\\n\")\n",
    "                play = int(input('If you want to play again Enter 1, otherwise Enter 0: '))\n",
    "              \n",
    "    print(\"\\n\\nBYE!!!\")       \n",
    "if __name__ == \"__main__\":\n",
    "    main()"
   ]
  },
  {
   "cell_type": "code",
   "execution_count": null,
   "id": "e0792c0f",
   "metadata": {},
   "outputs": [],
   "source": []
  }
 ],
 "metadata": {
  "kernelspec": {
   "display_name": "Python 3",
   "language": "python",
   "name": "python3"
  },
  "language_info": {
   "codemirror_mode": {
    "name": "ipython",
    "version": 3
   },
   "file_extension": ".py",
   "mimetype": "text/x-python",
   "name": "python",
   "nbconvert_exporter": "python",
   "pygments_lexer": "ipython3",
   "version": "3.8.15"
  }
 },
 "nbformat": 4,
 "nbformat_minor": 5
}

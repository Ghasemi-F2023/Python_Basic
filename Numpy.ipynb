{
  "nbformat": 4,
  "nbformat_minor": 0,
  "metadata": {
    "colab": {
      "provenance": []
    },
    "kernelspec": {
      "name": "python3",
      "display_name": "Python 3"
    },
    "language_info": {
      "name": "python"
    }
  },
  "cells": [
    {
      "cell_type": "markdown",
      "source": [
        "#Exercises 12\n",
        "#**Numpy**\n"
      ],
      "metadata": {
        "id": "7f4gNGdvAA_T"
      }
    },
    {
      "cell_type": "markdown",
      "source": [
        "**Exercises1**\n",
        "*   **Create an 3d numpy array with dimensions (4, 5, 3), and print the dimensions finally.**\n",
        "\n",
        "\n"
      ],
      "metadata": {
        "id": "-rk18gmHAGUu"
      }
    },
    {
      "cell_type": "code",
      "source": [
        "import numpy as np"
      ],
      "metadata": {
        "id": "Kue5YI8BBDC8"
      },
      "execution_count": 1,
      "outputs": []
    },
    {
      "cell_type": "code",
      "source": [
        "nested_list =[[[1,2,3],[4,5,6],[7,8,9],[10,11,12],[13,14,15]],\n",
        "              [[16,17,18],[19,20,21],[22,23,24],[25,26,27],[28,29,30]],\n",
        "              [[31,32,33],[34,35,36],[37,38,39],[40,41,42],[43,44,45]],\n",
        "              [[46,47,48],[49,50,51],[52,53,54],[55,56,57],[58,59,60]]\n",
        "             ]"
      ],
      "metadata": {
        "id": "bOC6xYh9JBD6"
      },
      "execution_count": 2,
      "outputs": []
    },
    {
      "cell_type": "code",
      "source": [
        "arry_3d=np.array(nested_list) "
      ],
      "metadata": {
        "id": "S06x7tsfDJTk"
      },
      "execution_count": 3,
      "outputs": []
    },
    {
      "cell_type": "code",
      "source": [
        "print(f'Number of dimensions {arry_3d.ndim}')\n",
        "print(arry_3d.shape)"
      ],
      "metadata": {
        "colab": {
          "base_uri": "https://localhost:8080/"
        },
        "id": "fkzy79nmLbc1",
        "outputId": "0418de2a-b773-4ebc-b3f6-291d3e89c482"
      },
      "execution_count": 4,
      "outputs": [
        {
          "output_type": "stream",
          "name": "stdout",
          "text": [
            "Number of dimensions 3\n",
            "(4, 5, 3)\n"
          ]
        }
      ]
    },
    {
      "cell_type": "markdown",
      "source": [
        "**Exercises 2**\n",
        "\n",
        "\n",
        "*   **the shape of created array in the exercise 01 to (20, 3) and check the current dimensions!**\n",
        "\n",
        "\n"
      ],
      "metadata": {
        "id": "w_Wk8TT1M3zJ"
      }
    },
    {
      "cell_type": "code",
      "source": [
        "arry_2d=np.reshape(arry_3d,(20,3)) # arry_3d.reshape(20,3)"
      ],
      "metadata": {
        "id": "OgupeUioOX9v"
      },
      "execution_count": 5,
      "outputs": []
    },
    {
      "cell_type": "code",
      "source": [
        "arry_2d.ndim"
      ],
      "metadata": {
        "colab": {
          "base_uri": "https://localhost:8080/"
        },
        "id": "UjUBztXDOmzu",
        "outputId": "beeea7dd-cf14-4e07-ffb0-1247b98f93db"
      },
      "execution_count": 6,
      "outputs": [
        {
          "output_type": "execute_result",
          "data": {
            "text/plain": [
              "2"
            ]
          },
          "metadata": {},
          "execution_count": 6
        }
      ]
    },
    {
      "cell_type": "markdown",
      "source": [
        "**Exercices 3**\n",
        "\n",
        "*   **index and print the number 50 from the arr.**\n",
        "\n"
      ],
      "metadata": {
        "id": "E_TBs-91PYuH"
      }
    },
    {
      "cell_type": "code",
      "source": [
        "arr = np.array([[10, 20, 30, 40], [50, 60, 70, 80]]) #([\n",
        "                                                      # [10, 20, 30, 40],\n",
        "                                                      # [50, 60, 0, 80]\n",
        "                                                      #]) >=======row 1 column 0"
      ],
      "metadata": {
        "id": "hbgeVIVgQM7e"
      },
      "execution_count": 7,
      "outputs": []
    },
    {
      "cell_type": "code",
      "source": [
        "print(arr[1,0])"
      ],
      "metadata": {
        "colab": {
          "base_uri": "https://localhost:8080/"
        },
        "id": "w5pXfusaYU9d",
        "outputId": "c130cf41-5ebf-4720-898a-671d8747b4df"
      },
      "execution_count": 8,
      "outputs": [
        {
          "output_type": "stream",
          "name": "stdout",
          "text": [
            "50\n"
          ]
        }
      ]
    },
    {
      "cell_type": "markdown",
      "source": [
        "**Exercies 4**\n",
        "\n",
        "**Change the element datatype of the arr to float!**"
      ],
      "metadata": {
        "id": "Hqf2Ig1xZkip"
      }
    },
    {
      "cell_type": "code",
      "source": [
        "arr = np.array([[10, 20, 30, 40], [50, 60, 70, 80]],dtype=\"d\") # d= float64\n",
        "\n",
        "#or arr=arr.astype(float) or arr=np.float64(arr)"
      ],
      "metadata": {
        "id": "S_pitQTdZ5Qw"
      },
      "execution_count": 9,
      "outputs": []
    },
    {
      "cell_type": "code",
      "source": [
        "print(arr)"
      ],
      "metadata": {
        "colab": {
          "base_uri": "https://localhost:8080/"
        },
        "id": "wLln-g6jaiBi",
        "outputId": "edf96232-f6f6-44a6-c044-f762ebc0cb1c"
      },
      "execution_count": 10,
      "outputs": [
        {
          "output_type": "stream",
          "name": "stdout",
          "text": [
            "[[10. 20. 30. 40.]\n",
            " [50. 60. 70. 80.]]\n"
          ]
        }
      ]
    },
    {
      "cell_type": "markdown",
      "source": [
        "**Exercies 5**\n",
        "\n",
        "**join arr1 and arr2 into a single array!**"
      ],
      "metadata": {
        "id": "1nTyKAoWatcB"
      }
    },
    {
      "cell_type": "code",
      "source": [
        "arr1 = np.array([1, 2, 3])\n",
        "arr2 = np.array([4, 5, 6])"
      ],
      "metadata": {
        "id": "hC2YuVLqcLRr"
      },
      "execution_count": 11,
      "outputs": []
    },
    {
      "cell_type": "code",
      "source": [
        "arr3=np.concatenate((arr1,arr2),axis=0)\n",
        "print(arr3)"
      ],
      "metadata": {
        "colab": {
          "base_uri": "https://localhost:8080/"
        },
        "id": "dNPOCFhkcL-b",
        "outputId": "ae273468-06f9-436e-908a-1361b04407b0"
      },
      "execution_count": 14,
      "outputs": [
        {
          "output_type": "stream",
          "name": "stdout",
          "text": [
            "[1 2 3 4 5 6]\n"
          ]
        }
      ]
    },
    {
      "cell_type": "code",
      "source": [
        "np.stack((arr1,arr2),axis=1)"
      ],
      "metadata": {
        "colab": {
          "base_uri": "https://localhost:8080/"
        },
        "id": "0vpUmINmeTYd",
        "outputId": "cbe0de77-6f55-4a9f-b87f-2a0ae3266fcd"
      },
      "execution_count": 15,
      "outputs": [
        {
          "output_type": "execute_result",
          "data": {
            "text/plain": [
              "array([[1, 4],\n",
              "       [2, 5],\n",
              "       [3, 6]])"
            ]
          },
          "metadata": {},
          "execution_count": 15
        }
      ]
    },
    {
      "cell_type": "code",
      "source": [
        "np.stack((arr1,arr2),axis=0)"
      ],
      "metadata": {
        "colab": {
          "base_uri": "https://localhost:8080/"
        },
        "id": "Vl1XdAYRZZ6K",
        "outputId": "3f1c3051-f720-492e-da29-51d18bf644f2"
      },
      "execution_count": 16,
      "outputs": [
        {
          "output_type": "execute_result",
          "data": {
            "text/plain": [
              "array([[1, 2, 3],\n",
              "       [4, 5, 6]])"
            ]
          },
          "metadata": {},
          "execution_count": 16
        }
      ]
    },
    {
      "cell_type": "code",
      "source": [],
      "metadata": {
        "id": "DxCtAZKSdf3p"
      },
      "execution_count": 13,
      "outputs": []
    }
  ]
}
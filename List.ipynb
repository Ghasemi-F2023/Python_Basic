{
  "nbformat": 4,
  "nbformat_minor": 0,
  "metadata": {
    "colab": {
      "provenance": []
    },
    "kernelspec": {
      "name": "python3",
      "display_name": "Python 3"
    },
    "language_info": {
      "name": "python"
    }
  },
  "cells": [
    {
      "cell_type": "markdown",
      "source": [
        "# **Exercises 04**\n",
        "# ***list***\n"
      ],
      "metadata": {
        "id": "vjS80q1h-R9s"
      }
    },
    {
      "cell_type": "markdown",
      "source": [
        "**Exercise 01**\n",
        "**The following is a list of 10 students ages:**\n",
        "\n",
        "\n",
        "> Sort the list and find the min and max age.\n",
        "\n",
        ">Add the min age and the max age again to the list.\n",
        "\n",
        "> IFind the median age (one middle item or two middle items divided by two)\n",
        "\n",
        ">Find the average age (sum of all items divided by their number ).\n",
        "\n",
        "> Find the range of the ages (max minus min).\n",
        "\n",
        "> Compare the value of (min - average) and (max - average), use abs() method.\n"
      ],
      "metadata": {
        "id": "xWWY0dU4-2Kk"
      }
    },
    {
      "cell_type": "markdown",
      "source": [
        "*   Sort the list and find the min and max age.\n"
      ],
      "metadata": {
        "id": "VHSFRDJt0lJk"
      }
    },
    {
      "cell_type": "code",
      "source": [
        "ages = [19, 22, 19, 24, 20, 25, 26, 24, 25, 24]\n",
        "ages.sort()\n",
        "print('list sort {}'.format(ages))\n",
        "\n",
        "#Add the min age and the max age again to the list.\n",
        "#1\n",
        "max_age=ages[-1]\n",
        "#2\n",
        "l=len(ages)-1\n",
        "max_age=ages[l]\n",
        "min_age=ages[0]\n",
        "\n",
        "print('Max list={}'.format(max_age))\n",
        "print('Min list={}'.format(min_age))\n",
        "\n",
        "# if list not sort\n",
        "print('max',max(ages))\n",
        "print('min',min(ages))"
      ],
      "metadata": {
        "colab": {
          "base_uri": "https://localhost:8080/"
        },
        "id": "WPUgeSz6BEJh",
        "outputId": "e5be14ca-f7e8-4f82-f339-33259fbc7848"
      },
      "execution_count": 3,
      "outputs": [
        {
          "output_type": "stream",
          "name": "stdout",
          "text": [
            "list sort [19, 19, 20, 22, 24, 24, 24, 25, 25, 26]\n",
            "Max list=26\n",
            "Min list=19\n",
            "max 26\n",
            "min 19\n"
          ]
        }
      ]
    },
    {
      "cell_type": "code",
      "source": [
        "len(ages)-1"
      ],
      "metadata": {
        "colab": {
          "base_uri": "https://localhost:8080/"
        },
        "id": "XxgxWNHeCtNY",
        "outputId": "71fbd144-6b7a-41bf-ceb2-d0507c79f7a2"
      },
      "execution_count": 4,
      "outputs": [
        {
          "output_type": "execute_result",
          "data": {
            "text/plain": [
              "9"
            ]
          },
          "metadata": {},
          "execution_count": 4
        }
      ]
    },
    {
      "cell_type": "code",
      "source": [
        "#max and min add to list\n",
        "ages.append(max_age)\n",
        "ages.append(min_age)\n",
        "print('after list add numbers =  {}'.format(ages))"
      ],
      "metadata": {
        "id": "ErqwBgqhBcqi",
        "colab": {
          "base_uri": "https://localhost:8080/"
        },
        "outputId": "7da34761-5a3c-4d86-9025-e3fa4f417d9e"
      },
      "execution_count": 5,
      "outputs": [
        {
          "output_type": "stream",
          "name": "stdout",
          "text": [
            "after list add numbers =  [19, 19, 20, 22, 24, 24, 24, 25, 25, 26, 26, 19]\n"
          ]
        }
      ]
    },
    {
      "cell_type": "markdown",
      "source": [
        "\n",
        "*  IFind the median age (one middle item or two middle items divided by two)\n"
      ],
      "metadata": {
        "id": "ac7soLeC6q2b"
      }
    },
    {
      "cell_type": "code",
      "source": [
        "#create function middel\n",
        "def get_median(list_):\n",
        "  list_.sort()\n",
        "  n = len(list_)\n",
        "  m = n // 2\n",
        "  if n % 2 == 0:\n",
        "    return (list_[m - 1] + list_[m]) / 2\n",
        "  else:\n",
        "    return list_[m]"
      ],
      "metadata": {
        "id": "lZ0fVHJt5Bt9"
      },
      "execution_count": 6,
      "outputs": []
    },
    {
      "cell_type": "code",
      "source": [
        "mediel=get_median(ages)\n",
        "print('Median Ages in Class= {}'.format(mediel))"
      ],
      "metadata": {
        "colab": {
          "base_uri": "https://localhost:8080/"
        },
        "id": "KoptsQcQbOY0",
        "outputId": "3cdfc119-7cf0-493c-ec0a-5f05dd014562"
      },
      "execution_count": 7,
      "outputs": [
        {
          "output_type": "stream",
          "name": "stdout",
          "text": [
            "Median Ages in Class= 24.0\n"
          ]
        }
      ]
    },
    {
      "cell_type": "markdown",
      "source": [
        "\n",
        "*   Find the average age (sum of all items divided by their number ).\n"
      ],
      "metadata": {
        "id": "cVN9YZOe7ltn"
      }
    },
    {
      "cell_type": "code",
      "source": [
        "#create functon average\n",
        "def get_average(list_):\n",
        "\n",
        "    sum_list=sum(list_)\n",
        "    average=sum_list/len(list_)\n",
        "  \n",
        "    return average"
      ],
      "metadata": {
        "id": "Q-qQoeJo64uK"
      },
      "execution_count": 8,
      "outputs": []
    },
    {
      "cell_type": "code",
      "source": [
        "average=get_average(ages)\n",
        "print('Average Ages in Class= {}'.format(average))"
      ],
      "metadata": {
        "colab": {
          "base_uri": "https://localhost:8080/"
        },
        "id": "wT3j6xfJCTTh",
        "outputId": "e9218d1c-05a3-4f55-85fd-31688046ea24"
      },
      "execution_count": 9,
      "outputs": [
        {
          "output_type": "stream",
          "name": "stdout",
          "text": [
            "Average Ages in Class= 22.75\n"
          ]
        }
      ]
    },
    {
      "cell_type": "markdown",
      "source": [
        "* Find the range of the ages (max minus min)."
      ],
      "metadata": {
        "id": "WEB2f4OPK1lk"
      }
    },
    {
      "cell_type": "code",
      "source": [
        "#create functon range\n",
        "def get_range(list_):\n",
        "\n",
        "  list_.sort()\n",
        "  Max=max(list_)\n",
        "  Min=min(list_)\n",
        "  rang=Max-Min\n",
        "  return rang"
      ],
      "metadata": {
        "id": "K_Ff4jGrCX9B"
      },
      "execution_count": 16,
      "outputs": []
    },
    {
      "cell_type": "code",
      "source": [
        "rang=get_range(ages)\n",
        "print('Rane Ages in Class={}'.format(rang))"
      ],
      "metadata": {
        "colab": {
          "base_uri": "https://localhost:8080/"
        },
        "id": "xMRjFiXyMbiz",
        "outputId": "5e150ea4-73c4-4f06-e08e-c6d009d41efe"
      },
      "execution_count": 17,
      "outputs": [
        {
          "output_type": "stream",
          "name": "stdout",
          "text": [
            "Rane Ages in Class=7\n"
          ]
        }
      ]
    },
    {
      "cell_type": "markdown",
      "source": [
        "* Compare the value of (min - average) and (max - average), use abs() method\n",
        "\n"
      ],
      "metadata": {
        "id": "kI2klvdcQ2PC"
      }
    },
    {
      "cell_type": "code",
      "source": [
        "min_avg=abs(min_age-average)\n",
        "max_avg=max_age-average\n",
        "\n",
        "if min_avg>max_avg:\n",
        "  print(f'min_avg>max_avg ({min_avg}>{max_avg})')\n",
        "elif min_avg<max_avg:\n",
        "  print(f'min_avg<max_avg ({min_avg}<{max_avg})')\n",
        "else:\n",
        "  print('Both of them are equal')"
      ],
      "metadata": {
        "id": "MeHf54ZqRBUo",
        "colab": {
          "base_uri": "https://localhost:8080/"
        },
        "outputId": "6722727d-0e64-4030-862b-7322374414f2"
      },
      "execution_count": 18,
      "outputs": [
        {
          "output_type": "stream",
          "name": "stdout",
          "text": [
            "min_avg>max_avg (3.75>3.25)\n"
          ]
        }
      ]
    },
    {
      "cell_type": "code",
      "source": [
        "#ages.remove(max_age) ---<> value deleat\n",
        "#ages.remove(min_age)\n",
        "#ages.pop(0)\n",
        "#ages.pop()"
      ],
      "metadata": {
        "id": "jLk8iAiiMZ2I"
      },
      "execution_count": null,
      "outputs": []
    }
  ]
}
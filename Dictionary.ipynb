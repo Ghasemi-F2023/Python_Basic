{
  "nbformat": 4,
  "nbformat_minor": 0,
  "metadata": {
    "colab": {
      "provenance": []
    },
    "kernelspec": {
      "name": "python3",
      "display_name": "Python 3"
    },
    "language_info": {
      "name": "python"
    }
  },
  "cells": [
    {
      "cell_type": "markdown",
      "source": [
        "# **Exercises 06**\n",
        "***Dictionary***"
      ],
      "metadata": {
        "id": "vtmqIVJvuArF"
      }
    },
    {
      "cell_type": "markdown",
      "source": [
        "**Exercise 01**\n",
        "\n",
        "> Create an empty dictionary called dog\n",
        "\n",
        "> Add name, color, breed, legs, age to the dog dictionary "
      ],
      "metadata": {
        "id": "O7quCqIawvd2"
      }
    },
    {
      "cell_type": "code",
      "source": [
        "#Create an empty dictionary called dog\n",
        "dog=dict()"
      ],
      "metadata": {
        "id": "TnN49-ZZwual"
      },
      "execution_count": 2,
      "outputs": []
    },
    {
      "cell_type": "code",
      "source": [
        "#Add name, color, breed, legs, age to the dog dictionary\n",
        "dog['name']='Charlie'\n",
        "dog['color']='white'\n",
        "dog['breed']='Pomeranian'\n",
        "dog['legs']='short'\n",
        "dog['age']=3"
      ],
      "metadata": {
        "id": "obpJnsMjx8c1"
      },
      "execution_count": 3,
      "outputs": []
    },
    {
      "cell_type": "code",
      "source": [
        "dog"
      ],
      "metadata": {
        "colab": {
          "base_uri": "https://localhost:8080/"
        },
        "id": "0F1OGOHZzVKB",
        "outputId": "8ca97d3e-6b6a-4ae8-aeba-971dacab3f25"
      },
      "execution_count": 4,
      "outputs": [
        {
          "output_type": "execute_result",
          "data": {
            "text/plain": [
              "{'name': 'Charlie',\n",
              " 'color': 'white',\n",
              " 'breed': 'Pomeranian',\n",
              " 'legs': 'short',\n",
              " 'age': 3}"
            ]
          },
          "metadata": {},
          "execution_count": 4
        }
      ]
    },
    {
      "cell_type": "markdown",
      "source": [
        "**Exercise 02**\n",
        "\n",
        "> Create a student dictionary and add first_name, last_name, gender, age, skills, country, city and address as keys for the dictionary\n",
        "\n",
        "> Get the length of the student dictionary\n",
        "\n",
        "> Get the value of skills and check the data type, it should be a list \n",
        "\n",
        "> Modify the skills values by adding one or two skills\n",
        "\n",
        "> Get the dictionary keys as a list\n",
        "\n",
        "> Get the dictionary values as a list\n",
        "\n",
        ">Change the dictionary to a list of tuples using items() method\n",
        "\n",
        "> Delete one of the items in the dictionary\n",
        "\n",
        "> Delete one of the dictionaries\n"
      ],
      "metadata": {
        "id": "BcmI6pog9_eA"
      }
    },
    {
      "cell_type": "code",
      "source": [
        "# Create a student dictionary and add first_name, last_name, gender, age, skills, country, city and address as keys for the dictionary\n",
        "student=dict()"
      ],
      "metadata": {
        "id": "ntmy-H4Mza_X"
      },
      "execution_count": 5,
      "outputs": []
    },
    {
      "cell_type": "code",
      "source": [
        "student['first_name']='Ali'\n",
        "student['last_name']= 'Ghassemi'\n",
        "student['gender']= 'Male'\n",
        "student['age']= 16\n",
        "student['skills']=['facilities','Electeric work','drawing']# if was one value string >---'drawing'\n",
        "student['country']= 'Iran'\n",
        "student['city']='Theran'\n",
        "student['address']='Agricultural Complex, Phase 4, Andisheh'"
      ],
      "metadata": {
        "id": "zVBC1bY8AEAm"
      },
      "execution_count": 6,
      "outputs": []
    },
    {
      "cell_type": "code",
      "source": [
        "student"
      ],
      "metadata": {
        "colab": {
          "base_uri": "https://localhost:8080/"
        },
        "id": "0lavEGKc_A-k",
        "outputId": "425628de-bbf4-44b2-ee40-bb86ff7f800a"
      },
      "execution_count": 7,
      "outputs": [
        {
          "output_type": "execute_result",
          "data": {
            "text/plain": [
              "{'first_name': 'Ali',\n",
              " 'last_name': 'Ghassemi',\n",
              " 'gender': 'Male',\n",
              " 'age': 16,\n",
              " 'skills': ['facilities', 'Electeric work', 'drawing'],\n",
              " 'country': 'Iran',\n",
              " 'city': 'Theran',\n",
              " 'address': 'Agricultural Complex, Phase 4, Andisheh'}"
            ]
          },
          "metadata": {},
          "execution_count": 7
        }
      ]
    },
    {
      "cell_type": "code",
      "source": [
        "# Get the length of the student dictionary\n",
        "len(student)"
      ],
      "metadata": {
        "colab": {
          "base_uri": "https://localhost:8080/"
        },
        "id": "MgSh9YbY_Hmi",
        "outputId": "4ad4d7f3-46a7-4891-ee53-7fbe5dc1ebd5"
      },
      "execution_count": 8,
      "outputs": [
        {
          "output_type": "execute_result",
          "data": {
            "text/plain": [
              "8"
            ]
          },
          "metadata": {},
          "execution_count": 8
        }
      ]
    },
    {
      "cell_type": "code",
      "source": [
        "# Get the value of skills and check the data type, it should be a list"
      ],
      "metadata": {
        "id": "kBGMYiIM_h7-"
      },
      "execution_count": 9,
      "outputs": []
    },
    {
      "cell_type": "code",
      "source": [
        "print(student['skills'])\n",
        "print()\n",
        "type(student['skills'])"
      ],
      "metadata": {
        "colab": {
          "base_uri": "https://localhost:8080/"
        },
        "id": "uBNkJhje_3ep",
        "outputId": "9522609d-ad81-4cc6-e74f-0f818a05ae00"
      },
      "execution_count": 10,
      "outputs": [
        {
          "output_type": "stream",
          "name": "stdout",
          "text": [
            "['facilities', 'Electeric work', 'drawing']\n",
            "\n"
          ]
        },
        {
          "output_type": "execute_result",
          "data": {
            "text/plain": [
              "list"
            ]
          },
          "metadata": {},
          "execution_count": 10
        }
      ]
    },
    {
      "cell_type": "code",
      "source": [
        "# Modify the skills values \n",
        "student['skills'][2]='Autocad'\n",
        "\n",
        "print('Modify to list=',student['skills'])\n",
        "print()\n",
        "\n",
        "# adding one or two skills\n",
        "student['skills'] += ['driving']\n",
        "\n",
        "print('Adding to list=',student['skills'])"
      ],
      "metadata": {
        "colab": {
          "base_uri": "https://localhost:8080/"
        },
        "id": "BMqpdfh2A2v8",
        "outputId": "a64de199-7838-4648-bde8-af8f613e7220"
      },
      "execution_count": 11,
      "outputs": [
        {
          "output_type": "stream",
          "name": "stdout",
          "text": [
            "Modify to list= ['facilities', 'Electeric work', 'Autocad']\n",
            "\n",
            "Adding to list= ['facilities', 'Electeric work', 'Autocad', 'driving']\n"
          ]
        }
      ]
    },
    {
      "cell_type": "code",
      "source": [
        "#--------------------------------------------\n",
        "# other adding one or two skills\n",
        "student['skills'].append('driving')\n",
        "\n",
        "print('Adding to list=',student['skills'])\n",
        "\n",
        "#if  was type value string we convert list\n",
        "student['skills']=[student['skills']]\n",
        " "
      ],
      "metadata": {
        "colab": {
          "base_uri": "https://localhost:8080/"
        },
        "id": "1D10Yff8uD8s",
        "outputId": "e8a78b48-efe6-4ab8-cbdd-984360320fb5"
      },
      "execution_count": 9,
      "outputs": [
        {
          "output_type": "stream",
          "name": "stdout",
          "text": [
            "Adding to list= ['facilities', 'Electeric work', 'drawing', 'driving', 'driving']\n"
          ]
        }
      ]
    },
    {
      "cell_type": "code",
      "source": [
        "#Get the dictionary keys as a list\n",
        "list(student.keys())"
      ],
      "metadata": {
        "colab": {
          "base_uri": "https://localhost:8080/"
        },
        "id": "FqW1BrImCfYS",
        "outputId": "cec0dfbe-13c5-467a-e73e-d1868b41a05c"
      },
      "execution_count": 12,
      "outputs": [
        {
          "output_type": "execute_result",
          "data": {
            "text/plain": [
              "['first_name',\n",
              " 'last_name',\n",
              " 'gender',\n",
              " 'age',\n",
              " 'skills',\n",
              " 'country',\n",
              " 'city',\n",
              " 'address']"
            ]
          },
          "metadata": {},
          "execution_count": 12
        }
      ]
    },
    {
      "cell_type": "code",
      "source": [
        "#Get the dictionary values as a list\n",
        "list(student.values())"
      ],
      "metadata": {
        "colab": {
          "base_uri": "https://localhost:8080/"
        },
        "id": "GY9NSXr8cwa8",
        "outputId": "de3019ba-f62e-45e1-cc18-a561fde95424"
      },
      "execution_count": 13,
      "outputs": [
        {
          "output_type": "execute_result",
          "data": {
            "text/plain": [
              "['Ali',\n",
              " 'Ghassemi',\n",
              " 'Male',\n",
              " 16,\n",
              " ['facilities', 'Electeric work', 'Autocad', 'driving'],\n",
              " 'Iran',\n",
              " 'Theran',\n",
              " 'Agricultural Complex, Phase 4, Andisheh']"
            ]
          },
          "metadata": {},
          "execution_count": 13
        }
      ]
    },
    {
      "cell_type": "code",
      "source": [
        "#Change the dictionary to a list of tuples using items() method\n",
        "student_list=list(student.items())\n",
        "print(student_list)"
      ],
      "metadata": {
        "colab": {
          "base_uri": "https://localhost:8080/"
        },
        "id": "2ly4N8T9hvTb",
        "outputId": "bff0997d-4b6c-462e-f3f5-ee9846a4b4ae"
      },
      "execution_count": null,
      "outputs": [
        {
          "output_type": "stream",
          "name": "stdout",
          "text": [
            "[('first_name', 'Ali'), ('last_name', 'Ghassemi'), ('gender', 'Male'), ('age', 16), ('skills', ['facilities', 'Electeric work', 'Autocad', 'driving']), ('country', 'Iran'), ('city', 'Theran'), ('address', 'Agricultural Complex, Phase 4, Andisheh')]\n"
          ]
        }
      ]
    },
    {
      "cell_type": "code",
      "source": [
        "#Delete one of the items in the dictionary\n",
        "student.pop('address')"
      ],
      "metadata": {
        "id": "yxUcmPc6iPuH",
        "colab": {
          "base_uri": "https://localhost:8080/",
          "height": 36
        },
        "outputId": "c5db1ff7-2d68-4f4c-d455-902f8abfdee2"
      },
      "execution_count": 14,
      "outputs": [
        {
          "output_type": "execute_result",
          "data": {
            "text/plain": [
              "'Agricultural Complex, Phase 4, Andisheh'"
            ],
            "application/vnd.google.colaboratory.intrinsic+json": {
              "type": "string"
            }
          },
          "metadata": {},
          "execution_count": 14
        }
      ]
    },
    {
      "cell_type": "code",
      "source": [
        "student"
      ],
      "metadata": {
        "colab": {
          "base_uri": "https://localhost:8080/"
        },
        "id": "9WwlcTOrjVwZ",
        "outputId": "14871018-5c50-4da1-8629-06d6aade08e8"
      },
      "execution_count": 15,
      "outputs": [
        {
          "output_type": "execute_result",
          "data": {
            "text/plain": [
              "{'first_name': 'Ali',\n",
              " 'last_name': 'Ghassemi',\n",
              " 'gender': 'Male',\n",
              " 'age': 16,\n",
              " 'skills': ['facilities', 'Electeric work', 'Autocad', 'driving'],\n",
              " 'country': 'Iran',\n",
              " 'city': 'Theran'}"
            ]
          },
          "metadata": {},
          "execution_count": 15
        }
      ]
    },
    {
      "cell_type": "code",
      "source": [
        "#Delete one of the dictionaries\n",
        "del student"
      ],
      "metadata": {
        "id": "pBJRH141jYwf"
      },
      "execution_count": 16,
      "outputs": []
    },
    {
      "cell_type": "code",
      "source": [
        "student"
      ],
      "metadata": {
        "colab": {
          "base_uri": "https://localhost:8080/",
          "height": 169
        },
        "id": "Kd4IeU2zkhfY",
        "outputId": "bb24b122-1360-429d-cc73-fc48d542cb84"
      },
      "execution_count": 17,
      "outputs": [
        {
          "output_type": "error",
          "ename": "NameError",
          "evalue": "ignored",
          "traceback": [
            "\u001b[0;31m---------------------------------------------------------------------------\u001b[0m",
            "\u001b[0;31mNameError\u001b[0m                                 Traceback (most recent call last)",
            "\u001b[0;32m<ipython-input-17-98eabfd95b2a>\u001b[0m in \u001b[0;36m<module>\u001b[0;34m\u001b[0m\n\u001b[0;32m----> 1\u001b[0;31m \u001b[0mstudent\u001b[0m\u001b[0;34m\u001b[0m\u001b[0;34m\u001b[0m\u001b[0m\n\u001b[0m",
            "\u001b[0;31mNameError\u001b[0m: name 'student' is not defined"
          ]
        }
      ]
    },
    {
      "cell_type": "code",
      "source": [],
      "metadata": {
        "id": "wqwOpCMwkj8n"
      },
      "execution_count": null,
      "outputs": []
    }
  ]
}
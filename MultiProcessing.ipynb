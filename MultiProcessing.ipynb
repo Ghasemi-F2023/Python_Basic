{
  "cells": [
    {
      "cell_type": "code",
      "execution_count": null,
      "id": "e9faa7d1",
      "metadata": {
        "id": "e9faa7d1"
      },
      "outputs": [],
      "source": [
        "def invite_guest(t):\n",
        "    print(f'invite_guest, s1: Write invitation for the guest!')\n",
        "    print(f'invite_guest, s2: Send invitation to the guest!')\n",
        "    print(f'invite_guest, s3: Wait for the guest\\'s answer!')\n",
        "    time.sleep(t)\n",
        "    print(f'invite_guest, s4: Bake cookies for the guest')"
      ]
    },
    {
      "cell_type": "code",
      "execution_count": null,
      "id": "56b50471",
      "metadata": {
        "id": "56b50471",
        "outputId": "a52f2115-90f3-4b9f-f3cb-b32a5a1b8b79"
      },
      "outputs": [
        {
          "name": "stdout",
          "output_type": "stream",
          "text": [
            "invite_guest, s1: Write invitation for the guest!\n",
            "invite_guest, s2: Send invitation to the guest!\n",
            "invite_guest, s3: Wait for the guest's answer!\n",
            "invite_guest, s4: Bake cookies for the guest\n",
            "invite_guest, s1: Write invitation for the guest!\n",
            "invite_guest, s2: Send invitation to the guest!\n",
            "invite_guest, s3: Wait for the guest's answer!\n",
            "invite_guest, s4: Bake cookies for the guest\n",
            "Duration:  4.004404067993164\n"
          ]
        }
      ],
      "source": [
        "import time\n",
        "\n",
        "start = time.time()\n",
        "invite_guest(2)\n",
        "invite_guest(2)\n",
        "end = time.time()\n",
        "\n",
        "print('Duration: ', end - start)"
      ]
    },
    {
      "cell_type": "code",
      "execution_count": null,
      "id": "f4acfb3e",
      "metadata": {
        "id": "f4acfb3e"
      },
      "outputs": [],
      "source": [
        "import multiprocessing"
      ]
    },
    {
      "cell_type": "code",
      "execution_count": null,
      "id": "c37d0c64",
      "metadata": {
        "id": "c37d0c64",
        "outputId": "10392221-231c-49e9-fa59-9cd51e4ee4a7"
      },
      "outputs": [
        {
          "name": "stdout",
          "output_type": "stream",
          "text": [
            "invite_guest, s1: Write invitation for the guest!\n",
            "invite_guest, s2: Send invitation to the guest!\n",
            "invite_guest, s1: Write invitation for the guest!\n",
            "invite_guest, s2: Send invitation to the guest!\n",
            "invite_guest, s3: Wait for the guest's answer!\n",
            "invite_guest, s3: Wait for the guest's answer!\n",
            "invite_guest, s4: Bake cookies for the guestinvite_guest, s4: Bake cookies for the guest\n",
            "\n",
            "Duration:  2.143162965774536\n"
          ]
        }
      ],
      "source": [
        "start = time.time()\n",
        "\n",
        "p1 = multiprocessing.Process(target=invite_guest, args=(2, ))\n",
        "p2 = multiprocessing.Process(target=invite_guest, args=(2, ))\n",
        "\n",
        "p1.start()\n",
        "p2.start()\n",
        "\n",
        "p1.join()\n",
        "p2.join()\n",
        "\n",
        "\n",
        "end = time.time()\n",
        "\n",
        "print('Duration: ', end - start)"
      ]
    },
    {
      "cell_type": "code",
      "execution_count": null,
      "id": "958a9a29",
      "metadata": {
        "id": "958a9a29",
        "outputId": "33da60fb-6a65-43e9-9021-fe82fbef6b0e"
      },
      "outputs": [
        {
          "name": "stdout",
          "output_type": "stream",
          "text": [
            "invite_guest, s1: Write invitation for the guest!\n",
            "invite_guest, s2: Send invitation to the guest!invite_guest, s1: Write invitation for the guest!invite_guest, s1: Write invitation for the guest!\n",
            "\n",
            "\n",
            "invite_guest, s1: Write invitation for the guest!invite_guest, s2: Send invitation to the guest!invite_guest, s3: Wait for the guest's answer!invite_guest, s2: Send invitation to the guest!invite_guest, s1: Write invitation for the guest!invite_guest, s1: Write invitation for the guest!\n",
            "\n",
            "\n",
            "invite_guest, s1: Write invitation for the guest!\n",
            "\n",
            "\n",
            "invite_guest, s2: Send invitation to the guest!invite_guest, s4: Bake cookies for the guestinvite_guest, s2: Send invitation to the guest!\n",
            "invite_guest, s2: Send invitation to the guest!invite_guest, s3: Wait for the guest's answer!invite_guest, s3: Wait for the guest's answer!invite_guest, s1: Write invitation for the guest!\n",
            "\n",
            "\n",
            "\n",
            "invite_guest, s2: Send invitation to the guest!\n",
            "invite_guest, s1: Write invitation for the guest!invite_guest, s3: Wait for the guest's answer!invite_guest, s3: Wait for the guest's answer!\n",
            "invite_guest, s3: Wait for the guest's answer!\n",
            "\n",
            "\n",
            "\n",
            "\n",
            "\n",
            "invite_guest, s3: Wait for the guest's answer!invite_guest, s2: Send invitation to the guest!invite_guest, s1: Write invitation for the guest!invite_guest, s2: Send invitation to the guest!\n",
            "\n",
            "\n",
            "invite_guest, s3: Wait for the guest's answer!invite_guest, s2: Send invitation to the guest!\n",
            "\n",
            "invite_guest, s3: Wait for the guest's answer!\n",
            "\n",
            "invite_guest, s3: Wait for the guest's answer!\n",
            "invite_guest, s4: Bake cookies for the guest\n",
            "invite_guest, s4: Bake cookies for the guest\n",
            "invite_guest, s4: Bake cookies for the guest\n",
            "invite_guest, s4: Bake cookies for the guest\n",
            "invite_guest, s4: Bake cookies for the guest\n",
            "invite_guest, s4: Bake cookies for the guest\n",
            "invite_guest, s4: Bake cookies for the guest\n",
            "invite_guest, s4: Bake cookies for the guest\n",
            "invite_guest, s4: Bake cookies for the guest\n",
            "Duration:  9.263565063476562\n"
          ]
        }
      ],
      "source": [
        "start = time.time()\n",
        "processes = []\n",
        "\n",
        "for i in range(10):\n",
        "    p = multiprocessing.Process(target=invite_guest, args=(i, ))\n",
        "    processes.append(p)\n",
        "    p.start()\n",
        "    \n",
        "for p in processes:\n",
        "    p.join()\n",
        "    \n",
        "\n",
        "\n",
        "\n",
        "end = time.time()\n",
        "print('Duration: ', end - start)"
      ]
    },
    {
      "cell_type": "code",
      "execution_count": null,
      "id": "70d6ed02",
      "metadata": {
        "id": "70d6ed02",
        "outputId": "eef1b29a-d86c-4ba7-b1fd-9eca7430a1dc"
      },
      "outputs": [
        {
          "name": "stdout",
          "output_type": "stream",
          "text": [
            "invite_guest, s1: Write invitation for the guest!\n",
            "invite_guest, s2: Send invitation to the guest!\n",
            "invite_guest, s3: Wait for the guest's answer!\n",
            "invite_guest, s4: Bake cookies for the guest\n",
            "Duration: 1.134519338607788\n"
          ]
        }
      ],
      "source": [
        "import concurrent\n",
        "\n",
        "start = time.time()\n",
        "\n",
        "with concurrent.futures.ProcessPoolExecutor() as executor:\n",
        "    p = executor.submit(invite_guest, 1)\n",
        "    p.result()\n",
        "\n",
        "\n",
        "end = time.time()\n",
        "\n",
        "print('Duration:', end-start)"
      ]
    },
    {
      "cell_type": "code",
      "execution_count": null,
      "id": "8b3fbe7b",
      "metadata": {
        "id": "8b3fbe7b",
        "outputId": "2dd2e7d4-61ad-4ba5-f05b-a58e44ae8efd"
      },
      "outputs": [
        {
          "name": "stdout",
          "output_type": "stream",
          "text": [
            "Duration:  22.360661029815674\n"
          ]
        }
      ],
      "source": [
        "start =  time.time()\n",
        "\n",
        "from PIL import Image\n",
        "import glob\n",
        "\n",
        "def process_image(image_path):\n",
        "    with Image.open(image_path) as img:\n",
        "        img = img.rotate(90)\n",
        "       # img.save(f'processed_{image_path}')\n",
        "        \n",
        "image_paths = glob.glob('*.jpg')\n",
        "\n",
        "for path in image_paths:\n",
        "    process_image(path)\n",
        "\n",
        "end = time.time()\n",
        "print('Duration: ', end - start)"
      ]
    },
    {
      "cell_type": "code",
      "execution_count": null,
      "id": "69e0ef43",
      "metadata": {
        "id": "69e0ef43",
        "outputId": "923869f8-fc25-45d4-e4d6-639d4f7bf8a9"
      },
      "outputs": [
        {
          "name": "stdout",
          "output_type": "stream",
          "text": [
            "Duration:  10.909904479980469\n"
          ]
        }
      ],
      "source": [
        "\n",
        "\n",
        "from PIL import Image\n",
        "import glob\n",
        "\n",
        "\n",
        "start = time.time()\n",
        "\n",
        "def process_image(image_path):\n",
        "    with Image.open(image_path) as img:\n",
        "        img = img.rotate(90)\n",
        "       # img.save(f'processed_{image_path}')\n",
        "        \n",
        "image_paths = glob.glob('*.jpg')\n",
        "\n",
        "with concurrent.futures.ProcessPoolExecutor() as executor:\n",
        "    executor.map(process_image, image_paths)\n",
        "\n",
        "        \n",
        "end = time.time()\n",
        "print('Duration: ', end - start)      \n"
      ]
    },
    {
      "cell_type": "code",
      "execution_count": null,
      "id": "39628af3",
      "metadata": {
        "id": "39628af3"
      },
      "outputs": [],
      "source": []
    },
    {
      "cell_type": "code",
      "execution_count": null,
      "id": "af70b1d6",
      "metadata": {
        "id": "af70b1d6"
      },
      "outputs": [],
      "source": []
    }
  ],
  "metadata": {
    "kernelspec": {
      "display_name": "Python 3 (ipykernel)",
      "language": "python",
      "name": "python3"
    },
    "language_info": {
      "codemirror_mode": {
        "name": "ipython",
        "version": 3
      },
      "file_extension": ".py",
      "mimetype": "text/x-python",
      "name": "python",
      "nbconvert_exporter": "python",
      "pygments_lexer": "ipython3",
      "version": "3.10.6"
    },
    "colab": {
      "provenance": []
    }
  },
  "nbformat": 4,
  "nbformat_minor": 5
}
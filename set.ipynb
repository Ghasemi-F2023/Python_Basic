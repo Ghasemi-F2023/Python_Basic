{
  "nbformat": 4,
  "nbformat_minor": 0,
  "metadata": {
    "colab": {
      "provenance": []
    },
    "kernelspec": {
      "name": "python3",
      "display_name": "Python 3"
    },
    "language_info": {
      "name": "python"
    }
  },
  "cells": [
    {
      "cell_type": "markdown",
      "source": [
        "# **Exercises 07**\n",
        "# set"
      ],
      "metadata": {
        "id": "W-KWCX9O6mgf"
      }
    },
    {
      "cell_type": "markdown",
      "source": [
        "**Exercise 01**\n",
        "\n",
        "\n",
        "> Find the length of the set it_companies\n",
        "\n",
        "> Add 'Twitter' to it_companie\n",
        "\n",
        "> Insert multiple IT companies at once to the set it_companies\n",
        "\n",
        "> Remove one of the companies from the set it_companies\n",
        "\n",
        "> What is the difference between remove and discard\n",
        "\n"
      ],
      "metadata": {
        "id": "nMKXicyZ8V9P"
      }
    },
    {
      "cell_type": "code",
      "source": [
        "# Find the length of the set it_companies\n",
        "\n",
        "it_companies = {'Facebook','Google','Microsoft','Apple','IBM','Oracle','Amazon'}\n",
        "\n",
        "print('Find the length of the set it_companies=',len(it_companies))"
      ],
      "metadata": {
        "colab": {
          "base_uri": "https://localhost:8080/"
        },
        "id": "J0zIuTJVq56e",
        "outputId": "6feefb1b-65f8-4095-dda0-0b61e7753dea"
      },
      "execution_count": 7,
      "outputs": [
        {
          "output_type": "stream",
          "name": "stdout",
          "text": [
            "Find the length of the set it_companies= 7\n"
          ]
        }
      ]
    },
    {
      "cell_type": "code",
      "source": [
        "#  Add 'Twitter' to it_companie\n",
        "\n",
        "it_companies.add('Twitter')\n",
        "it_companies"
      ],
      "metadata": {
        "colab": {
          "base_uri": "https://localhost:8080/"
        },
        "id": "SIdML_C4rSEX",
        "outputId": "6d480599-da70-4072-f21b-6cba3282b687"
      },
      "execution_count": 8,
      "outputs": [
        {
          "output_type": "execute_result",
          "data": {
            "text/plain": [
              "{'Amazon',\n",
              " 'Apple',\n",
              " 'Facebook',\n",
              " 'Google',\n",
              " 'IBM',\n",
              " 'Microsoft',\n",
              " 'Oracle',\n",
              " 'Twitter'}"
            ]
          },
          "metadata": {},
          "execution_count": 8
        }
      ]
    },
    {
      "cell_type": "code",
      "source": [
        "# Insert multiple IT companies at once to the set it_companies\n",
        "\n",
        "it_companies.update(['windos','linux'])"
      ],
      "metadata": {
        "id": "3w2ANVHOs80l"
      },
      "execution_count": 9,
      "outputs": []
    },
    {
      "cell_type": "code",
      "source": [
        "it_companies # in set not repetition"
      ],
      "metadata": {
        "colab": {
          "base_uri": "https://localhost:8080/"
        },
        "id": "qCXHOAbdwPr7",
        "outputId": "c63d7887-1d5d-4fc8-8a62-b52f6f286438"
      },
      "execution_count": 10,
      "outputs": [
        {
          "output_type": "execute_result",
          "data": {
            "text/plain": [
              "{'Amazon',\n",
              " 'Apple',\n",
              " 'Facebook',\n",
              " 'Google',\n",
              " 'IBM',\n",
              " 'Microsoft',\n",
              " 'Oracle',\n",
              " 'Twitter',\n",
              " 'linux',\n",
              " 'windos'}"
            ]
          },
          "metadata": {},
          "execution_count": 10
        }
      ]
    },
    {
      "cell_type": "code",
      "source": [
        "#Remove one of the companies from the set it_companies\n",
        "it_companies.remove('Twitter')"
      ],
      "metadata": {
        "id": "qT8z_q6jwSGe"
      },
      "execution_count": 11,
      "outputs": []
    },
    {
      "cell_type": "code",
      "source": [
        "it_companies"
      ],
      "metadata": {
        "colab": {
          "base_uri": "https://localhost:8080/"
        },
        "id": "KQCIdtFvwyi-",
        "outputId": "ba692449-f911-4058-9f2a-bc4aafc17a2e"
      },
      "execution_count": 12,
      "outputs": [
        {
          "output_type": "execute_result",
          "data": {
            "text/plain": [
              "{'Amazon',\n",
              " 'Apple',\n",
              " 'Facebook',\n",
              " 'Google',\n",
              " 'IBM',\n",
              " 'Microsoft',\n",
              " 'Oracle',\n",
              " 'linux',\n",
              " 'windos'}"
            ]
          },
          "metadata": {},
          "execution_count": 12
        }
      ]
    },
    {
      "cell_type": "code",
      "source": [
        "it_companies.clear()"
      ],
      "metadata": {
        "id": "NL6aziSL0407"
      },
      "execution_count": 13,
      "outputs": []
    },
    {
      "cell_type": "markdown",
      "source": [
        "**What is the difference between remove and discard?**\n",
        " \n",
        "# in remove When deleting, if there is no item in it, it gives an error,but in discard it is not like this, if there is no item, it does not give an error, now it depends on the application, which one is used.\n"
      ],
      "metadata": {
        "id": "hs7eZABIxhZe"
      }
    },
    {
      "cell_type": "markdown",
      "source": [
        "**Exercise 02**\n",
        "\n",
        "Convert the ages to a set and compare the length of the list and the set, which one is bigger"
      ],
      "metadata": {
        "id": "LG7tRbzBEiuv"
      }
    },
    {
      "cell_type": "code",
      "source": [
        "age = [22, 19, 24, 25, 26, 24, 25, 24]"
      ],
      "metadata": {
        "id": "qU2xgzH7FEOP"
      },
      "execution_count": 14,
      "outputs": []
    },
    {
      "cell_type": "code",
      "source": [
        "#Convert the ages to a set\n",
        "age_set=set(age)\n",
        "age\n"
      ],
      "metadata": {
        "colab": {
          "base_uri": "https://localhost:8080/"
        },
        "id": "rQZYA6w_FFHE",
        "outputId": "04c0efeb-9903-4be3-b264-906d95da13e3"
      },
      "execution_count": 15,
      "outputs": [
        {
          "output_type": "execute_result",
          "data": {
            "text/plain": [
              "[22, 19, 24, 25, 26, 24, 25, 24]"
            ]
          },
          "metadata": {},
          "execution_count": 15
        }
      ]
    },
    {
      "cell_type": "code",
      "source": [
        "print(age_set)"
      ],
      "metadata": {
        "colab": {
          "base_uri": "https://localhost:8080/"
        },
        "id": "QW4GZo5EFQvW",
        "outputId": "7d8aa301-252c-4f6f-825b-ae71ec26ec07"
      },
      "execution_count": 16,
      "outputs": [
        {
          "output_type": "stream",
          "name": "stdout",
          "text": [
            "{19, 22, 24, 25, 26}\n"
          ]
        }
      ]
    },
    {
      "cell_type": "code",
      "source": [
        "# compare the length of the list and the set, which one is bigger\n",
        "len_set=len(age_set)\n",
        "len_list=len(age)\n",
        "\n",
        "if len_set>len_list :\n",
        "      print(f'len of set ({len_set}) is bigger than len of list ({len_list})')\n",
        "elif len_set<len_list:\n",
        "    print(f'len of set ({len_set}) is smaller than len of list ({len_list})')\n",
        "else:\n",
        "    print(\"both of them are equal\")"
      ],
      "metadata": {
        "colab": {
          "base_uri": "https://localhost:8080/"
        },
        "id": "SH_8R6vHFT_6",
        "outputId": "e59de48c-4153-4d9f-9885-b6d820c6aa3e"
      },
      "execution_count": 19,
      "outputs": [
        {
          "output_type": "stream",
          "name": "stdout",
          "text": [
            "len of set (5) is smaller than len of list (8)\n"
          ]
        }
      ]
    },
    {
      "cell_type": "markdown",
      "source": [
        "**Exercise 03**\n",
        "\n",
        "How many unique words have been used in the sentence?\n",
        "Use the split methods and set to get the unique words.\n",
        "\n",
        "#(I am a teacher and I love to inspire and teach people.)"
      ],
      "metadata": {
        "id": "vVeeAkPnIyrJ"
      }
    },
    {
      "cell_type": "code",
      "source": [
        "string='I am a teacher and I love to inspire and teach people.'\n",
        "\n",
        "unique_words =set(string.split()) #in set remove repeat \n",
        "\n",
        "print(unique_words)\n",
        "print()\n",
        "print('Len sentence:',len(unique_words))"
      ],
      "metadata": {
        "colab": {
          "base_uri": "https://localhost:8080/"
        },
        "id": "oNejXXR7Fwus",
        "outputId": "71c5c929-d86a-4759-ab9c-3c8d0e7447fc"
      },
      "execution_count": 18,
      "outputs": [
        {
          "output_type": "stream",
          "name": "stdout",
          "text": [
            "{'to', 'teach', 'teacher', 'people.', 'inspire', 'and', 'I', 'am', 'love', 'a'}\n",
            "\n",
            "Len sentence: 10\n"
          ]
        }
      ]
    },
    {
      "cell_type": "code",
      "source": [],
      "metadata": {
        "id": "FUnFGW6CMWT0"
      },
      "execution_count": 18,
      "outputs": []
    }
  ]
}
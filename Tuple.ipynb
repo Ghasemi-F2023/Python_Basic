{
  "nbformat": 4,
  "nbformat_minor": 0,
  "metadata": {
    "colab": {
      "provenance": []
    },
    "kernelspec": {
      "name": "python3",
      "display_name": "Python 3"
    },
    "language_info": {
      "name": "python"
    }
  },
  "cells": [
    {
      "cell_type": "markdown",
      "source": [
        "#**Exercises 05**\n",
        "*  **Tuple**"
      ],
      "metadata": {
        "id": "IQxzD9xl9T5C"
      }
    },
    {
      "cell_type": "markdown",
      "source": [
        "**Exercise 01**"
      ],
      "metadata": {
        "id": "XueOHHPi997h"
      }
    },
    {
      "cell_type": "markdown",
      "source": [
        ">Create an empty tuple\n",
        "\n",
        ">Create a tuple containing names of your sisters and your brothers, separately (imaginary siblings are fine)\n",
        "\n",
        "> Join brothers and sisters tuples and assign it to siblings\n",
        "\n",
        "> How many siblings do you have?\n",
        "\n",
        "> Modify the siblings tuple and add the name of your father and mother and assign it to family_members\n"
      ],
      "metadata": {
        "id": "MSj3eyWK-NTk"
      }
    },
    {
      "cell_type": "markdown",
      "source": [
        "***Create an empty tuple:***"
      ],
      "metadata": {
        "id": "oc9rFRCk_eFp"
      }
    },
    {
      "cell_type": "code",
      "source": [
        "empyTuple=tuple()"
      ],
      "metadata": {
        "id": "LCDfN9wg_ukH"
      },
      "execution_count": 34,
      "outputs": []
    },
    {
      "cell_type": "markdown",
      "source": [
        "**Create a tuple containing names of your sisters and your brothers, separately (imaginary siblings are fine)**"
      ],
      "metadata": {
        "id": "VB5gZEojBhPQ"
      }
    },
    {
      "cell_type": "code",
      "source": [
        "sisters=('Munira', 'Zainab', 'Asiya', 'Leila') #If it has a member, it should be put in a comma at the end\n",
        "broders=('Mahmoud', 'Mahdi', 'Ali' ,'Hossein')   #(ali,)\n",
        "type(sisters)\n",
        "type(broders)"
      ],
      "metadata": {
        "id": "zTwrzz5aByrr",
        "colab": {
          "base_uri": "https://localhost:8080/"
        },
        "outputId": "1aa840a3-1c39-4b41-90ee-be136d70a915"
      },
      "execution_count": 35,
      "outputs": [
        {
          "output_type": "execute_result",
          "data": {
            "text/plain": [
              "tuple"
            ]
          },
          "metadata": {},
          "execution_count": 35
        }
      ]
    },
    {
      "cell_type": "markdown",
      "source": [
        "**Join brothers and sisters tuples and assign it to siblings**"
      ],
      "metadata": {
        "id": "_zGcjNtqDIiZ"
      }
    },
    {
      "cell_type": "code",
      "source": [
        "siblings =sisters+broders\n",
        "\n",
        "print('Brothers and sisters {}' .format(siblings))"
      ],
      "metadata": {
        "colab": {
          "base_uri": "https://localhost:8080/"
        },
        "id": "c2nuIsffDVZ8",
        "outputId": "a55e8c84-656f-4d9e-8665-f649171db7bd"
      },
      "execution_count": 36,
      "outputs": [
        {
          "output_type": "stream",
          "name": "stdout",
          "text": [
            "Brothers and sisters ('Munira', 'Zainab', 'Asiya', 'Leila', 'Mahmoud', 'Mahdi', 'Ali', 'Hossein')\n"
          ]
        }
      ]
    },
    {
      "cell_type": "markdown",
      "source": [
        "**How many siblings do you have?**"
      ],
      "metadata": {
        "id": "8mzutII2Ea-w"
      }
    },
    {
      "cell_type": "code",
      "source": [
        "number_siblings=len(siblings)\n",
        "\n",
        "print('Number Siblings= {}'.format(number_siblings))"
      ],
      "metadata": {
        "colab": {
          "base_uri": "https://localhost:8080/"
        },
        "id": "w1keNnpZDtnk",
        "outputId": "ac5a8fde-a680-4aee-eeee-986915732014"
      },
      "execution_count": 37,
      "outputs": [
        {
          "output_type": "stream",
          "name": "stdout",
          "text": [
            "Number Siblings= 8\n"
          ]
        }
      ]
    },
    {
      "cell_type": "markdown",
      "source": [
        "**Modify the siblings tuple and add the name of your father and mother and assign it to family_members**"
      ],
      "metadata": {
        "id": "FUPYp2MCKNxK"
      }
    },
    {
      "cell_type": "code",
      "source": [
        "#Tuple cannot be MOdify conver list\n",
        "#Modify\n",
        "sibl_list=list(siblings)\n",
        "#Add\n",
        "sibl_list.append('Adam')\n",
        "sibl_list.append('Eve')\n",
        "#Modify\n",
        "family_members=tuple(sibl_list)"
      ],
      "metadata": {
        "id": "71QBBIUiRqSa"
      },
      "execution_count": 38,
      "outputs": []
    },
    {
      "cell_type": "code",
      "source": [
        "family_members=('Adam','Eve',)+siblings\n",
        "\n",
        "print('family_members= {}'.format(family_members))"
      ],
      "metadata": {
        "colab": {
          "base_uri": "https://localhost:8080/"
        },
        "id": "6eE31KyIFEzD",
        "outputId": "7228e8b7-1e07-4966-d129-aee07277d943"
      },
      "execution_count": 39,
      "outputs": [
        {
          "output_type": "stream",
          "name": "stdout",
          "text": [
            "family_members= ('Adam', 'Eve', 'Munira', 'Zainab', 'Asiya', 'Leila', 'Mahmoud', 'Mahdi', 'Ali', 'Hossein')\n"
          ]
        }
      ]
    },
    {
      "cell_type": "markdown",
      "source": [
        "**Exercise 02**"
      ],
      "metadata": {
        "id": "t_mhtSABNEKZ"
      }
    },
    {
      "cell_type": "markdown",
      "source": [
        "\n",
        "\n",
        "> Create fruits, vegetables and animal products tuples, separately.\n",
        "\n",
        ">Join the above three tuples and assign it to a variable called food_stuff_tp\n",
        "\n",
        ">Change the about food_stuff_tp tuple to a food_stuff_lt list\n",
        "\n",
        "> Slice out the middle item of items from the food_stuff_tp tuple or food_stuff_lt list.\n",
        "\n",
        "\n",
        "> Slice out the first tree items and the last tree itmes from the food_staff_it list.\n",
        "\n",
        "> Delete the food_staff_tp tuple completely\n"
      ],
      "metadata": {
        "id": "GM9nH6HENOk_"
      }
    },
    {
      "cell_type": "markdown",
      "source": [
        "**Create fruits, vegetables and animal products tuples, separately.**"
      ],
      "metadata": {
        "id": "59atY-cACePi"
      }
    },
    {
      "cell_type": "code",
      "source": [
        "firuits=('Apple','Orange', 'lemon', 'cucumber',)\n",
        "\n",
        "vegetables=('Tarragon', 'tomato', 'onion', 'potato,')\n",
        "\n",
        "animal=('Dog', 'cat', 'fox', 'bear',)\n"
      ],
      "metadata": {
        "id": "zLghjT1DAvec"
      },
      "execution_count": 40,
      "outputs": []
    },
    {
      "cell_type": "markdown",
      "source": [
        "**Join the above three tuples and assign it to a variable called food_stuff_tp**"
      ],
      "metadata": {
        "id": "blLpfYwaCqGo"
      }
    },
    {
      "cell_type": "code",
      "source": [
        "food_stuff_tp=firuits+vegetables+animal\n",
        "\n",
        "print('Join the above three tuples = {}' .format(food_stuff_tp))"
      ],
      "metadata": {
        "colab": {
          "base_uri": "https://localhost:8080/"
        },
        "id": "JP30QVdBCuWq",
        "outputId": "1bb29e6f-c7d7-46bd-ff56-0863af417b99"
      },
      "execution_count": 41,
      "outputs": [
        {
          "output_type": "stream",
          "name": "stdout",
          "text": [
            "Join the above three tuples = ('Apple', 'Orange', 'lemon', 'cucumber', 'Tarragon', 'tomato', 'onion', 'potato,', 'Dog', 'cat', 'fox', 'bear')\n"
          ]
        }
      ]
    },
    {
      "cell_type": "markdown",
      "source": [
        "**Change the about food_stuff_tp tuple to a food_stuff_lt list**"
      ],
      "metadata": {
        "id": "DMHCbLo3Dkg4"
      }
    },
    {
      "cell_type": "code",
      "source": [
        "list_food_stuff=list(food_stuff_tp)\n",
        "\n",
        "type(list_food_stuff)"
      ],
      "metadata": {
        "colab": {
          "base_uri": "https://localhost:8080/"
        },
        "id": "If1eDWxsDS8G",
        "outputId": "b0d2baa3-536d-4c47-ebfd-4bd68e629a1f"
      },
      "execution_count": 42,
      "outputs": [
        {
          "output_type": "execute_result",
          "data": {
            "text/plain": [
              "list"
            ]
          },
          "metadata": {},
          "execution_count": 42
        }
      ]
    },
    {
      "cell_type": "markdown",
      "source": [
        "**Slice out the middle item of items from the food_stuff_tp tuple or food_stuff_lt list.**"
      ],
      "metadata": {
        "id": "JuqMbBxHKTsQ"
      }
    },
    {
      "cell_type": "code",
      "source": [
        "#slice out the middle tuple\n",
        "def findMiddle(input_list):\n",
        "    len_ = int(len(input_list))\n",
        "    middle=len_/2 # index can not float or len//2\n",
        "    if len_ % 2 != 0:\n",
        "        return input_list[int(middle)]\n",
        "    else:\n",
        "        return (input_list[int(middle)], input_list[int(middle-1)])\n"
      ],
      "metadata": {
        "id": "cRGPW0iRL756"
      },
      "execution_count": 43,
      "outputs": []
    },
    {
      "cell_type": "code",
      "source": [
        "print(food_stuff_tp)\n",
        "print()\n",
        "print('slice out the middle tuple= ',findMiddle(food_stuff_tp))"
      ],
      "metadata": {
        "colab": {
          "base_uri": "https://localhost:8080/"
        },
        "id": "sB03eLFFP0Wb",
        "outputId": "07b4e6fd-5771-46c5-cc13-e5f199f67d7d"
      },
      "execution_count": 44,
      "outputs": [
        {
          "output_type": "stream",
          "name": "stdout",
          "text": [
            "('Apple', 'Orange', 'lemon', 'cucumber', 'Tarragon', 'tomato', 'onion', 'potato,', 'Dog', 'cat', 'fox', 'bear')\n",
            "\n",
            "slice out the middle tuple=  ('onion', 'tomato')\n"
          ]
        }
      ]
    },
    {
      "cell_type": "markdown",
      "source": [
        "**Slice out the first tree items and the last tree itmes from the food_staff_it list.**"
      ],
      "metadata": {
        "id": "3pcJ_8N-ZxPN"
      }
    },
    {
      "cell_type": "code",
      "source": [
        "print(list_food_stuff[0:3:1]) # [start:3:step]\n",
        "\n",
        "print(list_food_stuff[-1:-4:-1])"
      ],
      "metadata": {
        "colab": {
          "base_uri": "https://localhost:8080/"
        },
        "id": "irzCbu-AZ1Ra",
        "outputId": "1a0c37a9-e7ac-47ae-ca96-5b48de3be116"
      },
      "execution_count": 45,
      "outputs": [
        {
          "output_type": "stream",
          "name": "stdout",
          "text": [
            "['Apple', 'Orange', 'lemon']\n",
            "['bear', 'fox', 'cat']\n"
          ]
        }
      ]
    },
    {
      "cell_type": "markdown",
      "source": [
        "**Delete the food_staff_tp tuple completely**"
      ],
      "metadata": {
        "id": "XZ6vsJ07VMmR"
      }
    },
    {
      "cell_type": "code",
      "source": [
        "#tuple conver list and clear\n",
        "list_food_stuff_tp=list(food_stuff_tp)\n",
        "\n",
        "print(list_food_stuff_tp)\n",
        "print()\n",
        "\n",
        "list_food_stuff_tp.clear() # clear for used list\n",
        "print('list it is Empty=' ,list_food_stuff_tp)\n",
        "\n",
        "del food_stuff_tp\n",
        "\n"
      ],
      "metadata": {
        "id": "Tw4_BitWVSIR",
        "colab": {
          "base_uri": "https://localhost:8080/"
        },
        "outputId": "da8c9e1d-0f87-45ca-9b7a-f28bb3343f42"
      },
      "execution_count": 46,
      "outputs": [
        {
          "output_type": "stream",
          "name": "stdout",
          "text": [
            "['Apple', 'Orange', 'lemon', 'cucumber', 'Tarragon', 'tomato', 'onion', 'potato,', 'Dog', 'cat', 'fox', 'bear']\n",
            "\n",
            "list it is Empty= []\n"
          ]
        }
      ]
    },
    {
      "cell_type": "markdown",
      "source": [
        "**Exercise 03**"
      ],
      "metadata": {
        "id": "Z6hq5Krsw8R7"
      }
    },
    {
      "cell_type": "markdown",
      "source": [
        "\n",
        "\n",
        ">Check if 'Estonia' is a nordic country, print True, Otherwise print False!\n",
        "\n",
        "> Check if 'Iceland' is a nordic country, print True, Otherwise print False!\n",
        "\n",
        "> nordic_countries = ('Denmark', 'Finland','Iceland', 'Norway', 'Sweden')\n"
      ],
      "metadata": {
        "id": "6PRTmlAAxNCS"
      }
    },
    {
      "cell_type": "code",
      "source": [
        "nordic_countries = ('Denmark', 'Finland','Iceland', 'Norway', 'Sweden')"
      ],
      "metadata": {
        "id": "eQjpHsitx_op"
      },
      "execution_count": 47,
      "outputs": []
    },
    {
      "cell_type": "code",
      "source": [
        "def find_Tuple(Name,Tuple_):\n",
        "  if Name in Tuple_:\n",
        "   print(' it is in list ', True)\n",
        "\n",
        "  else: print('it is in list', False)\n"
      ],
      "metadata": {
        "id": "aT5K7OEw1h1j"
      },
      "execution_count": 48,
      "outputs": []
    },
    {
      "cell_type": "code",
      "source": [
        "find_Tuple('Estonia',nordic_countries)"
      ],
      "metadata": {
        "colab": {
          "base_uri": "https://localhost:8080/"
        },
        "id": "LhNsaEv-2mxa",
        "outputId": "1eb2a675-f839-4f0b-8d58-5082c34f9d3b"
      },
      "execution_count": 49,
      "outputs": [
        {
          "output_type": "stream",
          "name": "stdout",
          "text": [
            "it is in list False\n"
          ]
        }
      ]
    },
    {
      "cell_type": "code",
      "source": [
        "find_Tuple('Iceland',nordic_countries)"
      ],
      "metadata": {
        "colab": {
          "base_uri": "https://localhost:8080/"
        },
        "id": "n-dqP7x90EbV",
        "outputId": "d01f2455-88c2-4f03-c326-c82c6c810ccf"
      },
      "execution_count": 50,
      "outputs": [
        {
          "output_type": "stream",
          "name": "stdout",
          "text": [
            " it is in list  True\n"
          ]
        }
      ]
    },
    {
      "cell_type": "code",
      "source": [
        "# the why without if and else\n",
        "print('Estonia' in nordic_countries)\n",
        "print('Iceland' in nordic_countries)"
      ],
      "metadata": {
        "colab": {
          "base_uri": "https://localhost:8080/"
        },
        "id": "8nm6qRrGfajV",
        "outputId": "399d1142-7c11-4370-a8fd-a5f8be2d92f3"
      },
      "execution_count": 52,
      "outputs": [
        {
          "output_type": "stream",
          "name": "stdout",
          "text": [
            "False\n",
            "True\n"
          ]
        }
      ]
    }
  ]
}